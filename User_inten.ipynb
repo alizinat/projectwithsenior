{
 "cells": [
  {
   "cell_type": "code",
   "execution_count": 1,
   "id": "51414eb1",
   "metadata": {},
   "outputs": [
    {
     "name": "stdout",
     "output_type": "stream",
     "text": [
      "Table exists already!!!\n",
      "Are you an existing user? [y,n] y\n",
      "Username: Admin\n",
      "Password: Admin\n",
      "Hello  Admin\n",
      "change method so it would call the read_all_users() method from dconnect_DB\n",
      "\n",
      "Logging out\n"
     ]
    }
   ],
   "source": [
    "#   FUNCTION    Week 7 Lab 6\n",
    "#   DATE        FEB 2020\n",
    "#   ------------------------------------\n",
    "\n",
    "#import Lab_week7_logic as logic \n",
    "import Lab04_logic as logic\n",
    "logic.connect_DB.create()\n",
    "\n",
    "'''\n",
    "Ask user to user if new user or existing? \n",
    "If new add new user and loopback to prompt, \n",
    "if existing check credintials.\n",
    "if successful login and give options to Admin.\n",
    "All other users just print logded and close application\n",
    "# '''\n",
    "not_logged = True\n",
    "count = 0\n",
    "\n",
    "existing_user = input(\"Are you an existing user? [y,n] \") \n",
    "while not_logged:\n",
    "    count +=1\n",
    "\n",
    "    if existing_user == \"y\" or existing_user == \"Y\":\n",
    "        username = input(\"Username: \")\n",
    "        password = input(\"Password: \")\n",
    "\n",
    "        is_user = logic.Check_user(username,password)\n",
    "        if is_user[0]: #checks the first elemet of list is true \n",
    "            print(\"Hello \", username)\n",
    "            if is_user[1] == \"admin\":\n",
    "                users=logic.get_user_table()\n",
    "                print(users)\n",
    "                \n",
    "            not_logged = False\n",
    "            print()\n",
    "            print(\"Logging out\")\n",
    "            \n",
    "        else:\n",
    "            print(\"Wrong credentials , try again\")\n",
    "            if count == 3: # gives 3 trys\n",
    "                print(\"good bye\")\n",
    "                not_logged = False\n",
    "    else:\n",
    "        adding_user = True\n",
    "        print(\"Welcome new user!!!\")\n",
    "        while adding_user:\n",
    "            print()\n",
    "            print(\"Please enter your information\")\n",
    "            username = input(\"Enter Username: \")\n",
    "            password = input(\"Enter Password: \") \n",
    "            role = input(\"Enter Role: \") \n",
    "            print()\n",
    "        \n",
    "            result= logic.add_user(username,password,role) \n",
    "            print(result[1])\n",
    "            adding_user = result[0]\n",
    "                  \n",
    "        not_logged = False\n",
    "\n",
    "        \n",
    "# Task 7 debug (get_user_table() for screen-print 3\n",
    "\n",
    "# all_users = logic.get_user_table()\n",
    "# for user in all_users:\n",
    "#     print(user)"
   ]
  }
 ],
 "metadata": {
  "kernelspec": {
   "display_name": "Python 3 (ipykernel)",
   "language": "python",
   "name": "python3"
  },
  "language_info": {
   "codemirror_mode": {
    "name": "ipython",
    "version": 3
   },
   "file_extension": ".py",
   "mimetype": "text/x-python",
   "name": "python",
   "nbconvert_exporter": "python",
   "pygments_lexer": "ipython3",
   "version": "3.9.13"
  }
 },
 "nbformat": 4,
 "nbformat_minor": 5
}
